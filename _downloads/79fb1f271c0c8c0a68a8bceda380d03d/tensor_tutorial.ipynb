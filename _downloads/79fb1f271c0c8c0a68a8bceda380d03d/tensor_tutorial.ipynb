{
  "cells": [
    {
      "cell_type": "markdown",
      "metadata": {
        "id": "view-in-github",
        "colab_type": "text"
      },
      "source": [
        "<a href=\"https://colab.research.google.com/github/twomeetings1/test123/blob/master/_downloads/79fb1f271c0c8c0a68a8bceda380d03d/tensor_tutorial.ipynb\" target=\"_parent\"><img src=\"https://colab.research.google.com/assets/colab-badge.svg\" alt=\"Open In Colab\"/></a>"
      ]
    },
    {
      "cell_type": "code",
      "execution_count": 1,
      "metadata": {
        "id": "wv_8ygss_ufT"
      },
      "outputs": [],
      "source": [
        "%matplotlib inline"
      ]
    },
    {
      "cell_type": "markdown",
      "metadata": {
        "id": "yyXqQnPv_ufW"
      },
      "source": [
        "\n",
        "`Learn the Basics <intro.html>`_ ||\n",
        "`Quickstart <quickstart_tutorial.html>`_ ||\n",
        "**Tensors** ||\n",
        "`Datasets & DataLoaders <data_tutorial.html>`_ ||\n",
        "`Transforms <transforms_tutorial.html>`_ ||\n",
        "`Build Model <buildmodel_tutorial.html>`_ ||\n",
        "`Autograd <autograd_tutorial.html>`_ ||\n",
        "`Optimization <optimization_tutorial.html>`_ ||\n",
        "`Save & Load Model <saveloadrun_tutorial.html>`_\n",
        "\n",
        "Tensors\n",
        "==========================\n",
        "\n",
        "Tensors are a specialized data structure that are very similar to arrays and matrices.\n",
        "In PyTorch, we use tensors to encode the inputs and outputs of a model, as well as the model’s parameters.\n",
        "\n",
        "Tensors are similar to `NumPy’s <https://numpy.org/>`_ ndarrays, except that tensors can run on GPUs or other hardware accelerators. In fact, tensors and\n",
        "NumPy arrays can often share the same underlying memory, eliminating the need to copy data (see `bridge-to-np-label`). Tensors\n",
        "are also optimized for automatic differentiation (we'll see more about that later in the `Autograd <autograd_tutorial.html>`__\n",
        "section). If you’re familiar with ndarrays, you’ll be right at home with the Tensor API. If not, follow along!\n",
        "\n"
      ]
    },
    {
      "cell_type": "code",
      "execution_count": 2,
      "metadata": {
        "id": "URW9qk8b_ufY",
        "outputId": "5af7ec60-1690-4309-e7d2-4373b964fc3e",
        "colab": {
          "base_uri": "https://localhost:8080/"
        }
      },
      "outputs": [
        {
          "output_type": "stream",
          "name": "stdout",
          "text": [
            "2.5.1+cu124\n",
            "<module 'numpy' from '/usr/local/lib/python3.11/dist-packages/numpy/__init__.py'>\n"
          ]
        }
      ],
      "source": [
        "import torch\n",
        "import numpy as np\n",
        "print(torch.__version__)\n",
        "print(np)"
      ]
    },
    {
      "cell_type": "markdown",
      "metadata": {
        "id": "d-7c18pH_ufZ"
      },
      "source": [
        "Initializing a Tensor\n",
        "~~~~~~~~~~~~~~~~~~~~~\n",
        "\n",
        "Tensors can be initialized in various ways. Take a look at the following examples:\n",
        "\n",
        "**Directly from data**\n",
        "\n",
        "Tensors can be created directly from data. The data type is automatically inferred.\n",
        "\n"
      ]
    },
    {
      "cell_type": "code",
      "execution_count": 12,
      "metadata": {
        "id": "7iFmEmJ3_ufa",
        "outputId": "876025e1-409c-4e28-e697-0a59c4da18f0",
        "colab": {
          "base_uri": "https://localhost:8080/"
        }
      },
      "outputs": [
        {
          "output_type": "stream",
          "name": "stdout",
          "text": [
            "[[333, 111], [222, 555]]\n",
            "tensor([[333, 111],\n",
            "        [222, 555]])\n"
          ]
        }
      ],
      "source": [
        "# data = [[1, 2],[3, 4]]\n",
        "# x_data = torch.tensor(data)\n",
        "# print(x_data)\n",
        "data = [[333,111,],[222,555]]\n",
        "print(data)\n",
        "x_data=torch.tensor(data)\n",
        "print(x_data)"
      ]
    },
    {
      "cell_type": "markdown",
      "metadata": {
        "id": "zKJH8T0O_ufa"
      },
      "source": [
        "**From a NumPy array**\n",
        "\n",
        "Tensors can be created from NumPy arrays (and vice versa - see `bridge-to-np-label`).\n",
        "\n"
      ]
    },
    {
      "cell_type": "code",
      "execution_count": 16,
      "metadata": {
        "id": "6yg1Jp0n_ufb",
        "outputId": "f6842659-8b12-4359-834a-3b0333859cca",
        "colab": {
          "base_uri": "https://localhost:8080/"
        }
      },
      "outputs": [
        {
          "output_type": "stream",
          "name": "stdout",
          "text": [
            "tensor([[333, 111],\n",
            "        [222, 555]])\n",
            "[[333 111]\n",
            " [222 555]]\n"
          ]
        }
      ],
      "source": [
        "np_array = np.array(data)\n",
        "# x_np = torch.from_numpy(np_array)\n",
        "x_np=torch.from_numpy(np_array)\n",
        "print(x_np)\n",
        "print(np_array)"
      ]
    },
    {
      "cell_type": "markdown",
      "metadata": {
        "id": "t8Rc13ry_ufb"
      },
      "source": [
        "**From another tensor:**\n",
        "\n",
        "The new tensor retains the properties (shape, datatype) of the argument tensor, unless explicitly overridden.\n",
        "\n"
      ]
    },
    {
      "cell_type": "code",
      "execution_count": 17,
      "metadata": {
        "id": "FQbfJm49_ufc",
        "outputId": "769fb07e-ee42-405d-edc8-c28a5aeca235",
        "colab": {
          "base_uri": "https://localhost:8080/"
        }
      },
      "outputs": [
        {
          "output_type": "stream",
          "name": "stdout",
          "text": [
            "Ones Tensor: \n",
            " tensor([[1, 1],\n",
            "        [1, 1]]) \n",
            "\n",
            "Random Tensor: \n",
            " tensor([[0.8469, 0.1869],\n",
            "        [0.3573, 0.1543]]) \n",
            "\n"
          ]
        }
      ],
      "source": [
        "x_ones = torch.ones_like(x_data) # retains the properties of x_data\n",
        "print(f\"Ones Tensor: \\n {x_ones} \\n\")\n",
        "\n",
        "x_rand = torch.rand_like(x_data, dtype=torch.float) # overrides the datatype of x_data\n",
        "print(f\"Random Tensor: \\n {x_rand} \\n\")"
      ]
    },
    {
      "cell_type": "markdown",
      "metadata": {
        "id": "1u_CC8Na_ufc"
      },
      "source": [
        "**With random or constant values:**\n",
        "\n",
        "``shape`` is a tuple of tensor dimensions. In the functions below, it determines the dimensionality of the output tensor.\n",
        "\n"
      ]
    },
    {
      "cell_type": "code",
      "execution_count": 3,
      "metadata": {
        "id": "Yqi6vx2K_ufc",
        "outputId": "5f75c61f-f5b9-49e1-a1c8-f400ede16c7b",
        "colab": {
          "base_uri": "https://localhost:8080/"
        }
      },
      "outputs": [
        {
          "output_type": "stream",
          "name": "stdout",
          "text": [
            "Random Tensor: \n",
            " tensor([[0.0204, 0.9437, 0.3313],\n",
            "        [0.8424, 0.8920, 0.3960]]) \n",
            "\n",
            "Ones Tensor: \n",
            " tensor([[1., 1., 1.],\n",
            "        [1., 1., 1.]]) \n",
            "\n",
            "Zeros Tensor: \n",
            " tensor([[0., 0., 0.],\n",
            "        [0., 0., 0.]])\n"
          ]
        }
      ],
      "source": [
        "shape = (2,3,)\n",
        "rand_tensor = torch.rand(shape)\n",
        "ones_tensor = torch.ones(shape)\n",
        "zeros_tensor = torch.zeros(shape)\n",
        "\n",
        "print(f\"Random Tensor: \\n {rand_tensor} \\n\")\n",
        "print(f\"Ones Tensor: \\n {ones_tensor} \\n\")\n",
        "print(f\"Zeros Tensor: \\n {zeros_tensor}\")"
      ]
    },
    {
      "cell_type": "markdown",
      "metadata": {
        "id": "Aw_tVw4l_ufc"
      },
      "source": [
        "--------------\n",
        "\n",
        "\n"
      ]
    },
    {
      "cell_type": "markdown",
      "metadata": {
        "id": "gAhKB4NU_ufd"
      },
      "source": [
        "Attributes of a Tensor\n",
        "~~~~~~~~~~~~~~~~~\n",
        "\n",
        "Tensor attributes describe their shape, datatype, and the device on which they are stored.\n",
        "\n"
      ]
    },
    {
      "cell_type": "code",
      "execution_count": 7,
      "metadata": {
        "id": "cAdSXKbm_ufd",
        "outputId": "83c4bda2-7493-4c75-e0a8-1213dd613171",
        "colab": {
          "base_uri": "https://localhost:8080/",
          "height": 1000
        }
      },
      "outputs": [
        {
          "output_type": "stream",
          "name": "stdout",
          "text": [
            "tensor([[0.6135, 0.8595, 0.5899, 0.2949],\n",
            "        [0.8859, 0.7843, 0.8717, 0.4671],\n",
            "        [0.7251, 0.4106, 0.8035, 0.8971]])\n",
            "{}\n",
            "{}\n",
            "obj.H = tensor([[0.6135, 0.8859, 0.7251],\n",
            "        [0.8595, 0.7843, 0.4106],\n",
            "        [0.5899, 0.8717, 0.8035],\n",
            "        [0.2949, 0.4671, 0.8971]])\n",
            "obj.T = tensor([[0.6135, 0.8859, 0.7251],\n",
            "        [0.8595, 0.7843, 0.4106],\n",
            "        [0.5899, 0.8717, 0.8035],\n",
            "        [0.2949, 0.4671, 0.8971]])\n",
            "obj.__abs__ = <built-in method abs of Tensor object at 0x7bb39a68b7d0>\n",
            "obj.__add__ = <built-in method __add__ of Tensor object at 0x7bb39a68b7d0>\n",
            "obj.__and__ = <built-in method __and__ of Tensor object at 0x7bb39a68b7d0>\n",
            "obj.__array__ = <bound method Tensor.__array__ of tensor([[0.6135, 0.8595, 0.5899, 0.2949],\n",
            "        [0.8859, 0.7843, 0.8717, 0.4671],\n",
            "        [0.7251, 0.4106, 0.8035, 0.8971]])>\n",
            "obj.__array_priority__ = 1000\n",
            "obj.__array_wrap__ = <bound method Tensor.__array_wrap__ of tensor([[0.6135, 0.8595, 0.5899, 0.2949],\n",
            "        [0.8859, 0.7843, 0.8717, 0.4671],\n",
            "        [0.7251, 0.4106, 0.8035, 0.8971]])>\n",
            "obj.__bool__ = <built-in method __bool__ of Tensor object at 0x7bb39a68b7d0>\n",
            "obj.__class__ = <class 'torch.Tensor'>\n",
            "obj.__complex__ = <built-in method __complex__ of Tensor object at 0x7bb39a68b7d0>\n",
            "obj.__contains__ = <bound method Tensor.__contains__ of tensor([[0.6135, 0.8595, 0.5899, 0.2949],\n",
            "        [0.8859, 0.7843, 0.8717, 0.4671],\n",
            "        [0.7251, 0.4106, 0.8035, 0.8971]])>\n",
            "obj.__deepcopy__ = <bound method Tensor.__deepcopy__ of tensor([[0.6135, 0.8595, 0.5899, 0.2949],\n",
            "        [0.8859, 0.7843, 0.8717, 0.4671],\n",
            "        [0.7251, 0.4106, 0.8035, 0.8971]])>\n",
            "obj.__delattr__ = <method-wrapper '__delattr__' of Tensor object at 0x7bb39a68b7d0>\n",
            "obj.__delitem__ = <method-wrapper '__delitem__' of Tensor object at 0x7bb39a68b7d0>\n",
            "obj.__dict__ = {}\n",
            "obj.__dir__ = <bound method Tensor.__dir__ of tensor([[0.6135, 0.8595, 0.5899, 0.2949],\n",
            "        [0.8859, 0.7843, 0.8717, 0.4671],\n",
            "        [0.7251, 0.4106, 0.8035, 0.8971]])>\n",
            "obj.__div__ = <built-in method __div__ of Tensor object at 0x7bb39a68b7d0>\n",
            "obj.__dlpack__ = <bound method Tensor.__dlpack__ of tensor([[0.6135, 0.8595, 0.5899, 0.2949],\n",
            "        [0.8859, 0.7843, 0.8717, 0.4671],\n",
            "        [0.7251, 0.4106, 0.8035, 0.8971]])>\n",
            "obj.__dlpack_device__ = <bound method Tensor.__dlpack_device__ of tensor([[0.6135, 0.8595, 0.5899, 0.2949],\n",
            "        [0.8859, 0.7843, 0.8717, 0.4671],\n",
            "        [0.7251, 0.4106, 0.8035, 0.8971]])>\n",
            "obj.__doc__ = None\n",
            "obj.__eq__ = <built-in method __eq__ of Tensor object at 0x7bb39a68b7d0>\n",
            "obj.__float__ = <built-in method __float__ of Tensor object at 0x7bb39a68b7d0>\n",
            "obj.__floordiv__ = <bound method Tensor.__floordiv__ of tensor([[0.6135, 0.8595, 0.5899, 0.2949],\n",
            "        [0.8859, 0.7843, 0.8717, 0.4671],\n",
            "        [0.7251, 0.4106, 0.8035, 0.8971]])>\n",
            "obj.__format__ = <bound method Tensor.__format__ of tensor([[0.6135, 0.8595, 0.5899, 0.2949],\n",
            "        [0.8859, 0.7843, 0.8717, 0.4671],\n",
            "        [0.7251, 0.4106, 0.8035, 0.8971]])>\n",
            "obj.__ge__ = <built-in method __ge__ of Tensor object at 0x7bb39a68b7d0>\n",
            "obj.__getattribute__ = <method-wrapper '__getattribute__' of Tensor object at 0x7bb39a68b7d0>\n",
            "obj.__getitem__ = <method-wrapper '__getitem__' of Tensor object at 0x7bb39a68b7d0>\n",
            "obj.__getstate__ = <built-in method __getstate__ of Tensor object at 0x7bb39a68b7d0>\n",
            "obj.__gt__ = <built-in method __gt__ of Tensor object at 0x7bb39a68b7d0>\n",
            "obj.__hash__ = <bound method Tensor.__hash__ of tensor([[0.6135, 0.8595, 0.5899, 0.2949],\n",
            "        [0.8859, 0.7843, 0.8717, 0.4671],\n",
            "        [0.7251, 0.4106, 0.8035, 0.8971]])>\n",
            "obj.__iadd__ = <built-in method __iadd__ of Tensor object at 0x7bb39a68b7d0>\n",
            "obj.__iand__ = <built-in method __iand__ of Tensor object at 0x7bb39a68b7d0>\n",
            "obj.__idiv__ = <built-in method __idiv__ of Tensor object at 0x7bb39a68b7d0>\n",
            "obj.__ifloordiv__ = <built-in method __ifloordiv__ of Tensor object at 0x7bb39a68b7d0>\n",
            "obj.__ilshift__ = <built-in method __ilshift__ of Tensor object at 0x7bb39a68b7d0>\n",
            "obj.__imod__ = <built-in method __imod__ of Tensor object at 0x7bb39a68b7d0>\n",
            "obj.__imul__ = <built-in method __imul__ of Tensor object at 0x7bb39a68b7d0>\n",
            "obj.__index__ = <built-in method __index__ of Tensor object at 0x7bb39a68b7d0>\n",
            "obj.__init__ = <method-wrapper '__init__' of Tensor object at 0x7bb39a68b7d0>\n",
            "obj.__init_subclass__ = <built-in method __init_subclass__ of torch._C._TensorMeta object at 0x6019b00>\n",
            "obj.__int__ = <built-in method __int__ of Tensor object at 0x7bb39a68b7d0>\n",
            "obj.__invert__ = <built-in method __invert__ of Tensor object at 0x7bb39a68b7d0>\n",
            "obj.__ior__ = <built-in method __ior__ of Tensor object at 0x7bb39a68b7d0>\n",
            "obj.__ipow__ = <bound method TensorBase.pow_ of tensor([[0.6135, 0.8595, 0.5899, 0.2949],\n",
            "        [0.8859, 0.7843, 0.8717, 0.4671],\n",
            "        [0.7251, 0.4106, 0.8035, 0.8971]])>\n",
            "obj.__irshift__ = <built-in method __irshift__ of Tensor object at 0x7bb39a68b7d0>\n",
            "obj.__isub__ = <built-in method __isub__ of Tensor object at 0x7bb39a68b7d0>\n",
            "obj.__iter__ = <bound method Tensor.__iter__ of tensor([[0.6135, 0.8595, 0.5899, 0.2949],\n",
            "        [0.8859, 0.7843, 0.8717, 0.4671],\n",
            "        [0.7251, 0.4106, 0.8035, 0.8971]])>\n",
            "obj.__itruediv__ = <built-in method __idiv__ of Tensor object at 0x7bb39a68b7d0>\n",
            "obj.__ixor__ = <built-in method __ixor__ of Tensor object at 0x7bb39a68b7d0>\n",
            "obj.__le__ = <built-in method __le__ of Tensor object at 0x7bb39a68b7d0>\n",
            "obj.__len__ = <bound method Tensor.__len__ of tensor([[0.6135, 0.8595, 0.5899, 0.2949],\n",
            "        [0.8859, 0.7843, 0.8717, 0.4671],\n",
            "        [0.7251, 0.4106, 0.8035, 0.8971]])>\n",
            "obj.__long__ = <built-in method __long__ of Tensor object at 0x7bb39a68b7d0>\n",
            "obj.__lshift__ = <built-in method __lshift__ of Tensor object at 0x7bb39a68b7d0>\n",
            "obj.__lt__ = <built-in method __lt__ of Tensor object at 0x7bb39a68b7d0>\n",
            "obj.__matmul__ = <built-in method __matmul__ of Tensor object at 0x7bb39a68b7d0>\n",
            "obj.__mod__ = <built-in method __mod__ of Tensor object at 0x7bb39a68b7d0>\n",
            "obj.__module__ = 'torch'\n",
            "obj.__mul__ = <built-in method __mul__ of Tensor object at 0x7bb39a68b7d0>\n",
            "obj.__ne__ = <built-in method __ne__ of Tensor object at 0x7bb39a68b7d0>\n",
            "obj.__neg__ = <built-in method neg of Tensor object at 0x7bb39a68b7d0>\n",
            "obj.__new__ = <built-in method __new__ of torch._C._TensorMeta object at 0x7bb453e5f600>\n",
            "obj.__nonzero__ = <built-in method __nonzero__ of Tensor object at 0x7bb39a68b7d0>\n",
            "obj.__or__ = <built-in method __or__ of Tensor object at 0x7bb39a68b7d0>\n",
            "obj.__pos__ = <built-in method positive of Tensor object at 0x7bb39a68b7d0>\n",
            "obj.__pow__ = <bound method TensorBase.pow of tensor([[0.6135, 0.8595, 0.5899, 0.2949],\n",
            "        [0.8859, 0.7843, 0.8717, 0.4671],\n",
            "        [0.7251, 0.4106, 0.8035, 0.8971]])>\n",
            "obj.__radd__ = <built-in method __radd__ of Tensor object at 0x7bb39a68b7d0>\n",
            "obj.__rand__ = <built-in method __rand__ of Tensor object at 0x7bb39a68b7d0>\n",
            "obj.__rdiv__ = <bound method Tensor.__rdiv__ of tensor([[0.6135, 0.8595, 0.5899, 0.2949],\n",
            "        [0.8859, 0.7843, 0.8717, 0.4671],\n",
            "        [0.7251, 0.4106, 0.8035, 0.8971]])>\n",
            "obj.__reduce__ = <built-in method __reduce__ of Tensor object at 0x7bb39a68b7d0>\n",
            "obj.__reduce_ex__ = <bound method Tensor.__reduce_ex__ of tensor([[0.6135, 0.8595, 0.5899, 0.2949],\n",
            "        [0.8859, 0.7843, 0.8717, 0.4671],\n",
            "        [0.7251, 0.4106, 0.8035, 0.8971]])>\n",
            "obj.__repr__ = <bound method Tensor.__repr__ of tensor([[0.6135, 0.8595, 0.5899, 0.2949],\n",
            "        [0.8859, 0.7843, 0.8717, 0.4671],\n",
            "        [0.7251, 0.4106, 0.8035, 0.8971]])>\n",
            "obj.__reversed__ = <bound method Tensor.__reversed__ of tensor([[0.6135, 0.8595, 0.5899, 0.2949],\n",
            "        [0.8859, 0.7843, 0.8717, 0.4671],\n",
            "        [0.7251, 0.4106, 0.8035, 0.8971]])>\n",
            "obj.__rfloordiv__ = <bound method Tensor.__rfloordiv__ of tensor([[0.6135, 0.8595, 0.5899, 0.2949],\n",
            "        [0.8859, 0.7843, 0.8717, 0.4671],\n",
            "        [0.7251, 0.4106, 0.8035, 0.8971]])>\n",
            "obj.__rlshift__ = <bound method Tensor.__rlshift__ of tensor([[0.6135, 0.8595, 0.5899, 0.2949],\n",
            "        [0.8859, 0.7843, 0.8717, 0.4671],\n",
            "        [0.7251, 0.4106, 0.8035, 0.8971]])>\n",
            "obj.__rmatmul__ = <bound method Tensor.__rmatmul__ of tensor([[0.6135, 0.8595, 0.5899, 0.2949],\n",
            "        [0.8859, 0.7843, 0.8717, 0.4671],\n",
            "        [0.7251, 0.4106, 0.8035, 0.8971]])>\n",
            "obj.__rmod__ = <bound method Tensor.__rmod__ of tensor([[0.6135, 0.8595, 0.5899, 0.2949],\n",
            "        [0.8859, 0.7843, 0.8717, 0.4671],\n",
            "        [0.7251, 0.4106, 0.8035, 0.8971]])>\n",
            "obj.__rmul__ = <built-in method __rmul__ of Tensor object at 0x7bb39a68b7d0>\n",
            "obj.__ror__ = <built-in method __ror__ of Tensor object at 0x7bb39a68b7d0>\n",
            "obj.__rpow__ = <bound method Tensor.__rpow__ of tensor([[0.6135, 0.8595, 0.5899, 0.2949],\n",
            "        [0.8859, 0.7843, 0.8717, 0.4671],\n",
            "        [0.7251, 0.4106, 0.8035, 0.8971]])>\n",
            "obj.__rrshift__ = <bound method Tensor.__rrshift__ of tensor([[0.6135, 0.8595, 0.5899, 0.2949],\n",
            "        [0.8859, 0.7843, 0.8717, 0.4671],\n",
            "        [0.7251, 0.4106, 0.8035, 0.8971]])>\n",
            "obj.__rshift__ = <built-in method __rshift__ of Tensor object at 0x7bb39a68b7d0>\n",
            "obj.__rsub__ = <bound method Tensor.__rsub__ of tensor([[0.6135, 0.8595, 0.5899, 0.2949],\n",
            "        [0.8859, 0.7843, 0.8717, 0.4671],\n",
            "        [0.7251, 0.4106, 0.8035, 0.8971]])>\n",
            "obj.__rtruediv__ = <bound method Tensor.__rdiv__ of tensor([[0.6135, 0.8595, 0.5899, 0.2949],\n",
            "        [0.8859, 0.7843, 0.8717, 0.4671],\n",
            "        [0.7251, 0.4106, 0.8035, 0.8971]])>\n",
            "obj.__rxor__ = <built-in method __rxor__ of Tensor object at 0x7bb39a68b7d0>\n",
            "obj.__setattr__ = <method-wrapper '__setattr__' of Tensor object at 0x7bb39a68b7d0>\n",
            "obj.__setitem__ = <method-wrapper '__setitem__' of Tensor object at 0x7bb39a68b7d0>\n",
            "obj.__setstate__ = <bound method Tensor.__setstate__ of tensor([[0.6135, 0.8595, 0.5899, 0.2949],\n",
            "        [0.8859, 0.7843, 0.8717, 0.4671],\n",
            "        [0.7251, 0.4106, 0.8035, 0.8971]])>\n",
            "obj.__sizeof__ = <built-in method __sizeof__ of Tensor object at 0x7bb39a68b7d0>\n",
            "obj.__str__ = <method-wrapper '__str__' of Tensor object at 0x7bb39a68b7d0>\n",
            "obj.__sub__ = <built-in method __sub__ of Tensor object at 0x7bb39a68b7d0>\n",
            "obj.__subclasshook__ = <built-in method __subclasshook__ of torch._C._TensorMeta object at 0x6019b00>\n",
            "obj.__torch_dispatch__ = <built-in function _disabled_torch_dispatch_impl>\n",
            "obj.__torch_function__ = <bound method Tensor.__torch_function__ of <class 'torch.Tensor'>>\n",
            "obj.__truediv__ = <built-in method __truediv__ of Tensor object at 0x7bb39a68b7d0>\n",
            "obj.__weakref__ = None\n",
            "obj.__xor__ = <built-in method __xor__ of Tensor object at 0x7bb39a68b7d0>\n",
            "obj._addmm_activation = <built-in method _addmm_activation of Tensor object at 0x7bb39a68b7d0>\n",
            "obj._autocast_to_full_precision = <built-in method _autocast_to_full_precision of Tensor object at 0x7bb39a68b7d0>\n",
            "obj._autocast_to_reduced_precision = <built-in method _autocast_to_reduced_precision of Tensor object at 0x7bb39a68b7d0>\n",
            "obj._backward_hooks = None\n",
            "obj._base = None\n",
            "obj._cdata = 122900240\n",
            "obj._coalesced_ = <built-in method _coalesced_ of Tensor object at 0x7bb39a68b7d0>\n",
            "obj._conj = <built-in method _conj of Tensor object at 0x7bb39a68b7d0>\n",
            "obj._conj_physical = <built-in method _conj_physical of Tensor object at 0x7bb39a68b7d0>\n",
            "obj._dimI = <built-in method _dimI of Tensor object at 0x7bb39a68b7d0>\n",
            "obj._dimV = <built-in method _dimV of Tensor object at 0x7bb39a68b7d0>\n",
            "obj._fix_weakref = <built-in method _fix_weakref of Tensor object at 0x7bb39a68b7d0>\n",
            "obj._grad = None\n",
            "obj._grad_fn = None\n",
            "obj._has_symbolic_sizes_strides = False\n",
            "obj._indices = <built-in method _indices of Tensor object at 0x7bb39a68b7d0>\n",
            "obj._is_all_true = <built-in method _is_all_true of Tensor object at 0x7bb39a68b7d0>\n",
            "obj._is_any_true = <built-in method _is_any_true of Tensor object at 0x7bb39a68b7d0>\n",
            "obj._is_view = <built-in method _is_view of Tensor object at 0x7bb39a68b7d0>\n",
            "obj._is_zerotensor = <built-in method _is_zerotensor of Tensor object at 0x7bb39a68b7d0>\n",
            "obj._lazy_clone = <built-in method _lazy_clone of Tensor object at 0x7bb39a68b7d0>\n",
            "obj._make_subclass = <built-in method _make_subclass of torch._C._TensorMeta object at 0x7bb453e5f600>\n",
            "obj._make_wrapper_subclass = <built-in method _make_wrapper_subclass of torch._C._TensorMeta object at 0x7bb453e5f600>\n",
            "obj._neg_view = <built-in method _neg_view of Tensor object at 0x7bb39a68b7d0>\n",
            "obj._nested_tensor_size = <built-in method _nested_tensor_size of Tensor object at 0x7bb39a68b7d0>\n",
            "obj._nested_tensor_storage_offsets = <built-in method _nested_tensor_storage_offsets of Tensor object at 0x7bb39a68b7d0>\n",
            "obj._nested_tensor_strides = <built-in method _nested_tensor_strides of Tensor object at 0x7bb39a68b7d0>\n",
            "obj._nnz = <built-in method _nnz of Tensor object at 0x7bb39a68b7d0>\n",
            "obj._post_accumulate_grad_hooks = None\n",
            "obj._python_dispatch = False\n",
            "obj._reduce_ex_internal = <bound method Tensor._reduce_ex_internal of tensor([[0.6135, 0.8595, 0.5899, 0.2949],\n",
            "        [0.8859, 0.7843, 0.8717, 0.4671],\n",
            "        [0.7251, 0.4106, 0.8035, 0.8971]])>\n",
            "obj._rev_view_func_unsafe = <built-in method _rev_view_func_unsafe of Tensor object at 0x7bb39a68b7d0>\n",
            "obj._sparse_mask_projection = <built-in method _sparse_mask_projection of Tensor object at 0x7bb39a68b7d0>\n",
            "obj._to_dense = <built-in method _to_dense of Tensor object at 0x7bb39a68b7d0>\n",
            "obj._to_sparse = <built-in method _to_sparse of Tensor object at 0x7bb39a68b7d0>\n",
            "obj._to_sparse_bsc = <built-in method _to_sparse_bsc of Tensor object at 0x7bb39a68b7d0>\n",
            "obj._to_sparse_bsr = <built-in method _to_sparse_bsr of Tensor object at 0x7bb39a68b7d0>\n",
            "obj._to_sparse_csc = <built-in method _to_sparse_csc of Tensor object at 0x7bb39a68b7d0>\n",
            "obj._to_sparse_csr = <built-in method _to_sparse_csr of Tensor object at 0x7bb39a68b7d0>\n",
            "obj._typed_storage = <bound method Tensor._typed_storage of tensor([[0.6135, 0.8595, 0.5899, 0.2949],\n",
            "        [0.8859, 0.7843, 0.8717, 0.4671],\n",
            "        [0.7251, 0.4106, 0.8035, 0.8971]])>\n",
            "obj._update_names = <bound method Tensor._update_names of tensor([[0.6135, 0.8595, 0.5899, 0.2949],\n",
            "        [0.8859, 0.7843, 0.8717, 0.4671],\n",
            "        [0.7251, 0.4106, 0.8035, 0.8971]])>\n",
            "obj._use_count = <built-in method _use_count of Tensor object at 0x7bb39a68b7d0>\n",
            "obj._values = <built-in method _values of Tensor object at 0x7bb39a68b7d0>\n",
            "obj._version = 0\n",
            "obj._view_func = <built-in method _view_func of Tensor object at 0x7bb39a68b7d0>\n",
            "obj._view_func_unsafe = <built-in method _view_func_unsafe of Tensor object at 0x7bb39a68b7d0>\n",
            "obj.abs = <built-in method abs of Tensor object at 0x7bb39a68b7d0>\n",
            "obj.abs_ = <built-in method abs_ of Tensor object at 0x7bb39a68b7d0>\n",
            "obj.absolute = <built-in method absolute of Tensor object at 0x7bb39a68b7d0>\n",
            "obj.absolute_ = <built-in method absolute_ of Tensor object at 0x7bb39a68b7d0>\n",
            "obj.acos = <built-in method acos of Tensor object at 0x7bb39a68b7d0>\n",
            "obj.acos_ = <built-in method acos_ of Tensor object at 0x7bb39a68b7d0>\n",
            "obj.acosh = <built-in method acosh of Tensor object at 0x7bb39a68b7d0>\n",
            "obj.acosh_ = <built-in method acosh_ of Tensor object at 0x7bb39a68b7d0>\n",
            "obj.add = <built-in method add of Tensor object at 0x7bb39a68b7d0>\n",
            "obj.add_ = <built-in method add_ of Tensor object at 0x7bb39a68b7d0>\n",
            "obj.addbmm = <built-in method addbmm of Tensor object at 0x7bb39a68b7d0>\n",
            "obj.addbmm_ = <built-in method addbmm_ of Tensor object at 0x7bb39a68b7d0>\n",
            "obj.addcdiv = <built-in method addcdiv of Tensor object at 0x7bb39a68b7d0>\n",
            "obj.addcdiv_ = <built-in method addcdiv_ of Tensor object at 0x7bb39a68b7d0>\n",
            "obj.addcmul = <built-in method addcmul of Tensor object at 0x7bb39a68b7d0>\n",
            "obj.addcmul_ = <built-in method addcmul_ of Tensor object at 0x7bb39a68b7d0>\n",
            "obj.addmm = <built-in method addmm of Tensor object at 0x7bb39a68b7d0>\n",
            "obj.addmm_ = <built-in method addmm_ of Tensor object at 0x7bb39a68b7d0>\n",
            "obj.addmv = <built-in method addmv of Tensor object at 0x7bb39a68b7d0>\n",
            "obj.addmv_ = <built-in method addmv_ of Tensor object at 0x7bb39a68b7d0>\n",
            "obj.addr = <built-in method addr of Tensor object at 0x7bb39a68b7d0>\n",
            "obj.addr_ = <built-in method addr_ of Tensor object at 0x7bb39a68b7d0>\n",
            "obj.adjoint = <built-in method adjoint of Tensor object at 0x7bb39a68b7d0>\n",
            "obj.align_as = <built-in method align_as of Tensor object at 0x7bb39a68b7d0>\n",
            "obj.align_to = <bound method Tensor.align_to of tensor([[0.6135, 0.8595, 0.5899, 0.2949],\n",
            "        [0.8859, 0.7843, 0.8717, 0.4671],\n",
            "        [0.7251, 0.4106, 0.8035, 0.8971]])>\n",
            "obj.all = <built-in method all of Tensor object at 0x7bb39a68b7d0>\n",
            "obj.allclose = <built-in method allclose of Tensor object at 0x7bb39a68b7d0>\n",
            "obj.amax = <built-in method amax of Tensor object at 0x7bb39a68b7d0>\n",
            "obj.amin = <built-in method amin of Tensor object at 0x7bb39a68b7d0>\n",
            "obj.aminmax = <built-in method aminmax of Tensor object at 0x7bb39a68b7d0>\n",
            "obj.angle = <built-in method angle of Tensor object at 0x7bb39a68b7d0>\n",
            "obj.any = <built-in method any of Tensor object at 0x7bb39a68b7d0>\n",
            "obj.apply_ = <built-in method apply_ of Tensor object at 0x7bb39a68b7d0>\n",
            "obj.arccos = <built-in method arccos of Tensor object at 0x7bb39a68b7d0>\n",
            "obj.arccos_ = <built-in method arccos_ of Tensor object at 0x7bb39a68b7d0>\n",
            "obj.arccosh = <built-in method arccosh of Tensor object at 0x7bb39a68b7d0>\n",
            "obj.arccosh_ = <built-in method arccosh_ of Tensor object at 0x7bb39a68b7d0>\n",
            "obj.arcsin = <built-in method arcsin of Tensor object at 0x7bb39a68b7d0>\n",
            "obj.arcsin_ = <built-in method arcsin_ of Tensor object at 0x7bb39a68b7d0>\n",
            "obj.arcsinh = <built-in method arcsinh of Tensor object at 0x7bb39a68b7d0>\n",
            "obj.arcsinh_ = <built-in method arcsinh_ of Tensor object at 0x7bb39a68b7d0>\n",
            "obj.arctan = <built-in method arctan of Tensor object at 0x7bb39a68b7d0>\n",
            "obj.arctan2 = <built-in method arctan2 of Tensor object at 0x7bb39a68b7d0>\n",
            "obj.arctan2_ = <built-in method arctan2_ of Tensor object at 0x7bb39a68b7d0>\n",
            "obj.arctan_ = <built-in method arctan_ of Tensor object at 0x7bb39a68b7d0>\n",
            "obj.arctanh = <built-in method arctanh of Tensor object at 0x7bb39a68b7d0>\n",
            "obj.arctanh_ = <built-in method arctanh_ of Tensor object at 0x7bb39a68b7d0>\n",
            "obj.argmax = <built-in method argmax of Tensor object at 0x7bb39a68b7d0>\n",
            "obj.argmin = <built-in method argmin of Tensor object at 0x7bb39a68b7d0>\n",
            "obj.argsort = <built-in method argsort of Tensor object at 0x7bb39a68b7d0>\n",
            "obj.argwhere = <built-in method argwhere of Tensor object at 0x7bb39a68b7d0>\n",
            "obj.as_strided = <built-in method as_strided of Tensor object at 0x7bb39a68b7d0>\n",
            "obj.as_strided_ = <built-in method as_strided_ of Tensor object at 0x7bb39a68b7d0>\n",
            "obj.as_strided_scatter = <built-in method as_strided_scatter of Tensor object at 0x7bb39a68b7d0>\n",
            "obj.as_subclass = <built-in method as_subclass of Tensor object at 0x7bb39a68b7d0>\n",
            "obj.asin = <built-in method asin of Tensor object at 0x7bb39a68b7d0>\n",
            "obj.asin_ = <built-in method asin_ of Tensor object at 0x7bb39a68b7d0>\n",
            "obj.asinh = <built-in method asinh of Tensor object at 0x7bb39a68b7d0>\n",
            "obj.asinh_ = <built-in method asinh_ of Tensor object at 0x7bb39a68b7d0>\n",
            "obj.atan = <built-in method atan of Tensor object at 0x7bb39a68b7d0>\n",
            "obj.atan2 = <built-in method atan2 of Tensor object at 0x7bb39a68b7d0>\n",
            "obj.atan2_ = <built-in method atan2_ of Tensor object at 0x7bb39a68b7d0>\n",
            "obj.atan_ = <built-in method atan_ of Tensor object at 0x7bb39a68b7d0>\n",
            "obj.atanh = <built-in method atanh of Tensor object at 0x7bb39a68b7d0>\n",
            "obj.atanh_ = <built-in method atanh_ of Tensor object at 0x7bb39a68b7d0>\n",
            "obj.backward = <bound method Tensor.backward of tensor([[0.6135, 0.8595, 0.5899, 0.2949],\n",
            "        [0.8859, 0.7843, 0.8717, 0.4671],\n",
            "        [0.7251, 0.4106, 0.8035, 0.8971]])>\n",
            "obj.baddbmm = <built-in method baddbmm of Tensor object at 0x7bb39a68b7d0>\n",
            "obj.baddbmm_ = <built-in method baddbmm_ of Tensor object at 0x7bb39a68b7d0>\n",
            "obj.bernoulli = <built-in method bernoulli of Tensor object at 0x7bb39a68b7d0>\n",
            "obj.bernoulli_ = <built-in method bernoulli_ of Tensor object at 0x7bb39a68b7d0>\n",
            "obj.bfloat16 = <built-in method bfloat16 of Tensor object at 0x7bb39a68b7d0>\n",
            "obj.bincount = <built-in method bincount of Tensor object at 0x7bb39a68b7d0>\n",
            "obj.bitwise_and = <built-in method bitwise_and of Tensor object at 0x7bb39a68b7d0>\n",
            "obj.bitwise_and_ = <built-in method bitwise_and_ of Tensor object at 0x7bb39a68b7d0>\n",
            "obj.bitwise_left_shift = <built-in method bitwise_left_shift of Tensor object at 0x7bb39a68b7d0>\n",
            "obj.bitwise_left_shift_ = <built-in method bitwise_left_shift_ of Tensor object at 0x7bb39a68b7d0>\n",
            "obj.bitwise_not = <built-in method bitwise_not of Tensor object at 0x7bb39a68b7d0>\n",
            "obj.bitwise_not_ = <built-in method bitwise_not_ of Tensor object at 0x7bb39a68b7d0>\n",
            "obj.bitwise_or = <built-in method bitwise_or of Tensor object at 0x7bb39a68b7d0>\n",
            "obj.bitwise_or_ = <built-in method bitwise_or_ of Tensor object at 0x7bb39a68b7d0>\n",
            "obj.bitwise_right_shift = <built-in method bitwise_right_shift of Tensor object at 0x7bb39a68b7d0>\n",
            "obj.bitwise_right_shift_ = <built-in method bitwise_right_shift_ of Tensor object at 0x7bb39a68b7d0>\n",
            "obj.bitwise_xor = <built-in method bitwise_xor of Tensor object at 0x7bb39a68b7d0>\n",
            "obj.bitwise_xor_ = <built-in method bitwise_xor_ of Tensor object at 0x7bb39a68b7d0>\n",
            "obj.bmm = <built-in method bmm of Tensor object at 0x7bb39a68b7d0>\n",
            "obj.bool = <built-in method bool of Tensor object at 0x7bb39a68b7d0>\n",
            "obj.broadcast_to = <built-in method broadcast_to of Tensor object at 0x7bb39a68b7d0>\n",
            "obj.byte = <built-in method byte of Tensor object at 0x7bb39a68b7d0>\n",
            "obj.cauchy_ = <built-in method cauchy_ of Tensor object at 0x7bb39a68b7d0>\n",
            "obj.ccol_indices = <built-in method ccol_indices of Tensor object at 0x7bb39a68b7d0>\n",
            "obj.cdouble = <built-in method cdouble of Tensor object at 0x7bb39a68b7d0>\n",
            "obj.ceil = <built-in method ceil of Tensor object at 0x7bb39a68b7d0>\n",
            "obj.ceil_ = <built-in method ceil_ of Tensor object at 0x7bb39a68b7d0>\n",
            "obj.cfloat = <built-in method cfloat of Tensor object at 0x7bb39a68b7d0>\n",
            "obj.chalf = <built-in method chalf of Tensor object at 0x7bb39a68b7d0>\n",
            "obj.char = <built-in method char of Tensor object at 0x7bb39a68b7d0>\n",
            "obj.cholesky = <built-in method cholesky of Tensor object at 0x7bb39a68b7d0>\n",
            "obj.cholesky_inverse = <built-in method cholesky_inverse of Tensor object at 0x7bb39a68b7d0>\n",
            "obj.cholesky_solve = <built-in method cholesky_solve of Tensor object at 0x7bb39a68b7d0>\n",
            "obj.chunk = <built-in method chunk of Tensor object at 0x7bb39a68b7d0>\n",
            "obj.clamp = <built-in method clamp of Tensor object at 0x7bb39a68b7d0>\n",
            "obj.clamp_ = <built-in method clamp_ of Tensor object at 0x7bb39a68b7d0>\n",
            "obj.clamp_max = <built-in method clamp_max of Tensor object at 0x7bb39a68b7d0>\n",
            "obj.clamp_max_ = <built-in method clamp_max_ of Tensor object at 0x7bb39a68b7d0>\n",
            "obj.clamp_min = <built-in method clamp_min of Tensor object at 0x7bb39a68b7d0>\n",
            "obj.clamp_min_ = <built-in method clamp_min_ of Tensor object at 0x7bb39a68b7d0>\n",
            "obj.clip = <built-in method clip of Tensor object at 0x7bb39a68b7d0>\n",
            "obj.clip_ = <built-in method clip_ of Tensor object at 0x7bb39a68b7d0>\n",
            "obj.clone = <built-in method clone of Tensor object at 0x7bb39a68b7d0>\n",
            "obj.coalesce = <built-in method coalesce of Tensor object at 0x7bb39a68b7d0>\n",
            "obj.col_indices = <built-in method col_indices of Tensor object at 0x7bb39a68b7d0>\n",
            "obj.conj = <built-in method conj of Tensor object at 0x7bb39a68b7d0>\n",
            "obj.conj_physical = <built-in method conj_physical of Tensor object at 0x7bb39a68b7d0>\n",
            "obj.conj_physical_ = <built-in method conj_physical_ of Tensor object at 0x7bb39a68b7d0>\n",
            "obj.contiguous = <built-in method contiguous of Tensor object at 0x7bb39a68b7d0>\n",
            "obj.copy_ = <built-in method copy_ of Tensor object at 0x7bb39a68b7d0>\n",
            "obj.copysign = <built-in method copysign of Tensor object at 0x7bb39a68b7d0>\n",
            "obj.copysign_ = <built-in method copysign_ of Tensor object at 0x7bb39a68b7d0>\n",
            "obj.corrcoef = <built-in method corrcoef of Tensor object at 0x7bb39a68b7d0>\n",
            "obj.cos = <built-in method cos of Tensor object at 0x7bb39a68b7d0>\n",
            "obj.cos_ = <built-in method cos_ of Tensor object at 0x7bb39a68b7d0>\n",
            "obj.cosh = <built-in method cosh of Tensor object at 0x7bb39a68b7d0>\n",
            "obj.cosh_ = <built-in method cosh_ of Tensor object at 0x7bb39a68b7d0>\n",
            "obj.count_nonzero = <built-in method count_nonzero of Tensor object at 0x7bb39a68b7d0>\n",
            "obj.cov = <built-in method cov of Tensor object at 0x7bb39a68b7d0>\n",
            "obj.cpu = <built-in method cpu of Tensor object at 0x7bb39a68b7d0>\n",
            "obj.cross = <built-in method cross of Tensor object at 0x7bb39a68b7d0>\n",
            "obj.crow_indices = <built-in method crow_indices of Tensor object at 0x7bb39a68b7d0>\n",
            "obj.cuda = <built-in method cuda of Tensor object at 0x7bb39a68b7d0>\n",
            "obj.cummax = <built-in method cummax of Tensor object at 0x7bb39a68b7d0>\n",
            "obj.cummin = <built-in method cummin of Tensor object at 0x7bb39a68b7d0>\n",
            "obj.cumprod = <built-in method cumprod of Tensor object at 0x7bb39a68b7d0>\n",
            "obj.cumprod_ = <built-in method cumprod_ of Tensor object at 0x7bb39a68b7d0>\n",
            "obj.cumsum = <built-in method cumsum of Tensor object at 0x7bb39a68b7d0>\n",
            "obj.cumsum_ = <built-in method cumsum_ of Tensor object at 0x7bb39a68b7d0>\n",
            "obj.data = tensor([[0.6135, 0.8595, 0.5899, 0.2949],\n",
            "        [0.8859, 0.7843, 0.8717, 0.4671],\n",
            "        [0.7251, 0.4106, 0.8035, 0.8971]])\n",
            "obj.data_ptr = <built-in method data_ptr of Tensor object at 0x7bb39a68b7d0>\n",
            "obj.deg2rad = <built-in method deg2rad of Tensor object at 0x7bb39a68b7d0>\n",
            "obj.deg2rad_ = <built-in method deg2rad_ of Tensor object at 0x7bb39a68b7d0>\n",
            "obj.dense_dim = <built-in method dense_dim of Tensor object at 0x7bb39a68b7d0>\n",
            "obj.dequantize = <built-in method dequantize of Tensor object at 0x7bb39a68b7d0>\n",
            "obj.det = <built-in method det of Tensor object at 0x7bb39a68b7d0>\n",
            "obj.detach = <built-in method detach of Tensor object at 0x7bb39a68b7d0>\n",
            "obj.detach_ = <built-in method detach_ of Tensor object at 0x7bb39a68b7d0>\n",
            "obj.device = device(type='cpu')\n",
            "obj.diag = <built-in method diag of Tensor object at 0x7bb39a68b7d0>\n",
            "obj.diag_embed = <built-in method diag_embed of Tensor object at 0x7bb39a68b7d0>\n",
            "obj.diagflat = <built-in method diagflat of Tensor object at 0x7bb39a68b7d0>\n",
            "obj.diagonal = <built-in method diagonal of Tensor object at 0x7bb39a68b7d0>\n",
            "obj.diagonal_scatter = <built-in method diagonal_scatter of Tensor object at 0x7bb39a68b7d0>\n",
            "obj.diff = <built-in method diff of Tensor object at 0x7bb39a68b7d0>\n",
            "obj.digamma = <built-in method digamma of Tensor object at 0x7bb39a68b7d0>\n",
            "obj.digamma_ = <built-in method digamma_ of Tensor object at 0x7bb39a68b7d0>\n",
            "obj.dim = <built-in method dim of Tensor object at 0x7bb39a68b7d0>\n",
            "obj.dim_order = <bound method Tensor.dim_order of tensor([[0.6135, 0.8595, 0.5899, 0.2949],\n",
            "        [0.8859, 0.7843, 0.8717, 0.4671],\n",
            "        [0.7251, 0.4106, 0.8035, 0.8971]])>\n",
            "obj.dist = <built-in method dist of Tensor object at 0x7bb39a68b7d0>\n",
            "obj.div = <built-in method div of Tensor object at 0x7bb39a68b7d0>\n",
            "obj.div_ = <built-in method div_ of Tensor object at 0x7bb39a68b7d0>\n",
            "obj.divide = <built-in method divide of Tensor object at 0x7bb39a68b7d0>\n",
            "obj.divide_ = <built-in method divide_ of Tensor object at 0x7bb39a68b7d0>\n",
            "obj.dot = <built-in method dot of Tensor object at 0x7bb39a68b7d0>\n",
            "obj.double = <built-in method double of Tensor object at 0x7bb39a68b7d0>\n",
            "obj.dsplit = <built-in method dsplit of Tensor object at 0x7bb39a68b7d0>\n",
            "obj.dtype = torch.float32\n",
            "obj.eig = <bound method Tensor.eig of tensor([[0.6135, 0.8595, 0.5899, 0.2949],\n",
            "        [0.8859, 0.7843, 0.8717, 0.4671],\n",
            "        [0.7251, 0.4106, 0.8035, 0.8971]])>\n",
            "obj.element_size = <built-in method element_size of Tensor object at 0x7bb39a68b7d0>\n",
            "obj.eq = <built-in method eq of Tensor object at 0x7bb39a68b7d0>\n",
            "obj.eq_ = <built-in method eq_ of Tensor object at 0x7bb39a68b7d0>\n",
            "obj.equal = <built-in method equal of Tensor object at 0x7bb39a68b7d0>\n",
            "obj.erf = <built-in method erf of Tensor object at 0x7bb39a68b7d0>\n",
            "obj.erf_ = <built-in method erf_ of Tensor object at 0x7bb39a68b7d0>\n",
            "obj.erfc = <built-in method erfc of Tensor object at 0x7bb39a68b7d0>\n",
            "obj.erfc_ = <built-in method erfc_ of Tensor object at 0x7bb39a68b7d0>\n",
            "obj.erfinv = <built-in method erfinv of Tensor object at 0x7bb39a68b7d0>\n",
            "obj.erfinv_ = <built-in method erfinv_ of Tensor object at 0x7bb39a68b7d0>\n",
            "obj.exp = <built-in method exp of Tensor object at 0x7bb39a68b7d0>\n",
            "obj.exp2 = <built-in method exp2 of Tensor object at 0x7bb39a68b7d0>\n",
            "obj.exp2_ = <built-in method exp2_ of Tensor object at 0x7bb39a68b7d0>\n",
            "obj.exp_ = <built-in method exp_ of Tensor object at 0x7bb39a68b7d0>\n",
            "obj.expand = <built-in method expand of Tensor object at 0x7bb39a68b7d0>\n",
            "obj.expand_as = <built-in method expand_as of Tensor object at 0x7bb39a68b7d0>\n",
            "obj.expm1 = <built-in method expm1 of Tensor object at 0x7bb39a68b7d0>\n",
            "obj.expm1_ = <built-in method expm1_ of Tensor object at 0x7bb39a68b7d0>\n",
            "obj.exponential_ = <built-in method exponential_ of Tensor object at 0x7bb39a68b7d0>\n",
            "obj.fill_ = <built-in method fill_ of Tensor object at 0x7bb39a68b7d0>\n",
            "obj.fill_diagonal_ = <built-in method fill_diagonal_ of Tensor object at 0x7bb39a68b7d0>\n",
            "obj.fix = <built-in method fix of Tensor object at 0x7bb39a68b7d0>\n",
            "obj.fix_ = <built-in method fix_ of Tensor object at 0x7bb39a68b7d0>\n",
            "obj.flatten = <built-in method flatten of Tensor object at 0x7bb39a68b7d0>\n",
            "obj.flip = <built-in method flip of Tensor object at 0x7bb39a68b7d0>\n",
            "obj.fliplr = <built-in method fliplr of Tensor object at 0x7bb39a68b7d0>\n",
            "obj.flipud = <built-in method flipud of Tensor object at 0x7bb39a68b7d0>\n",
            "obj.float = <built-in method float of Tensor object at 0x7bb39a68b7d0>\n",
            "obj.float_power = <built-in method float_power of Tensor object at 0x7bb39a68b7d0>\n",
            "obj.float_power_ = <built-in method float_power_ of Tensor object at 0x7bb39a68b7d0>\n",
            "obj.floor = <built-in method floor of Tensor object at 0x7bb39a68b7d0>\n",
            "obj.floor_ = <built-in method floor_ of Tensor object at 0x7bb39a68b7d0>\n",
            "obj.floor_divide = <built-in method floor_divide of Tensor object at 0x7bb39a68b7d0>\n",
            "obj.floor_divide_ = <built-in method floor_divide_ of Tensor object at 0x7bb39a68b7d0>\n",
            "obj.fmax = <built-in method fmax of Tensor object at 0x7bb39a68b7d0>\n",
            "obj.fmin = <built-in method fmin of Tensor object at 0x7bb39a68b7d0>\n",
            "obj.fmod = <built-in method fmod of Tensor object at 0x7bb39a68b7d0>\n",
            "obj.fmod_ = <built-in method fmod_ of Tensor object at 0x7bb39a68b7d0>\n",
            "obj.frac = <built-in method frac of Tensor object at 0x7bb39a68b7d0>\n",
            "obj.frac_ = <built-in method frac_ of Tensor object at 0x7bb39a68b7d0>\n",
            "obj.frexp = <built-in method frexp of Tensor object at 0x7bb39a68b7d0>\n",
            "obj.gather = <built-in method gather of Tensor object at 0x7bb39a68b7d0>\n",
            "obj.gcd = <built-in method gcd of Tensor object at 0x7bb39a68b7d0>\n",
            "obj.gcd_ = <built-in method gcd_ of Tensor object at 0x7bb39a68b7d0>\n",
            "obj.ge = <built-in method ge of Tensor object at 0x7bb39a68b7d0>\n",
            "obj.ge_ = <built-in method ge_ of Tensor object at 0x7bb39a68b7d0>\n",
            "obj.geometric_ = <built-in method geometric_ of Tensor object at 0x7bb39a68b7d0>\n",
            "obj.geqrf = <built-in method geqrf of Tensor object at 0x7bb39a68b7d0>\n",
            "obj.ger = <built-in method ger of Tensor object at 0x7bb39a68b7d0>\n",
            "obj.get_device = <built-in method get_device of Tensor object at 0x7bb39a68b7d0>\n",
            "obj.grad = None\n",
            "obj.grad_fn = None\n",
            "obj.greater = <built-in method greater of Tensor object at 0x7bb39a68b7d0>\n",
            "obj.greater_ = <built-in method greater_ of Tensor object at 0x7bb39a68b7d0>\n",
            "obj.greater_equal = <built-in method greater_equal of Tensor object at 0x7bb39a68b7d0>\n",
            "obj.greater_equal_ = <built-in method greater_equal_ of Tensor object at 0x7bb39a68b7d0>\n",
            "obj.gt = <built-in method gt of Tensor object at 0x7bb39a68b7d0>\n",
            "obj.gt_ = <built-in method gt_ of Tensor object at 0x7bb39a68b7d0>\n",
            "obj.half = <built-in method half of Tensor object at 0x7bb39a68b7d0>\n",
            "obj.hardshrink = <built-in method hardshrink of Tensor object at 0x7bb39a68b7d0>\n",
            "obj.has_names = <built-in method has_names of Tensor object at 0x7bb39a68b7d0>\n",
            "obj.heaviside = <built-in method heaviside of Tensor object at 0x7bb39a68b7d0>\n",
            "obj.heaviside_ = <built-in method heaviside_ of Tensor object at 0x7bb39a68b7d0>\n",
            "obj.histc = <built-in method histc of Tensor object at 0x7bb39a68b7d0>\n",
            "obj.histogram = <built-in method histogram of Tensor object at 0x7bb39a68b7d0>\n",
            "obj.hsplit = <built-in method hsplit of Tensor object at 0x7bb39a68b7d0>\n",
            "obj.hypot = <built-in method hypot of Tensor object at 0x7bb39a68b7d0>\n",
            "obj.hypot_ = <built-in method hypot_ of Tensor object at 0x7bb39a68b7d0>\n",
            "obj.i0 = <built-in method i0 of Tensor object at 0x7bb39a68b7d0>\n",
            "obj.i0_ = <built-in method i0_ of Tensor object at 0x7bb39a68b7d0>\n",
            "obj.igamma = <built-in method igamma of Tensor object at 0x7bb39a68b7d0>\n",
            "obj.igamma_ = <built-in method igamma_ of Tensor object at 0x7bb39a68b7d0>\n",
            "obj.igammac = <built-in method igammac of Tensor object at 0x7bb39a68b7d0>\n",
            "obj.igammac_ = <built-in method igammac_ of Tensor object at 0x7bb39a68b7d0>\n"
          ]
        },
        {
          "output_type": "error",
          "ename": "RuntimeError",
          "evalue": "imag is not implemented for tensors with non-complex dtypes.",
          "traceback": [
            "\u001b[0;31m---------------------------------------------------------------------------\u001b[0m",
            "\u001b[0;31mRuntimeError\u001b[0m                              Traceback (most recent call last)",
            "\u001b[0;32m<ipython-input-7-9fcd61abcfb8>\u001b[0m in \u001b[0;36m<cell line: 0>\u001b[0;34m()\u001b[0m\n\u001b[1;32m      5\u001b[0m \u001b[0mpprint\u001b[0m\u001b[0;34m(\u001b[0m\u001b[0mvars\u001b[0m\u001b[0;34m(\u001b[0m\u001b[0mtensor\u001b[0m\u001b[0;34m)\u001b[0m\u001b[0;34m)\u001b[0m\u001b[0;34m\u001b[0m\u001b[0;34m\u001b[0m\u001b[0m\n\u001b[1;32m      6\u001b[0m \u001b[0;32mfor\u001b[0m \u001b[0mattr\u001b[0m \u001b[0;32min\u001b[0m \u001b[0mdir\u001b[0m\u001b[0;34m(\u001b[0m\u001b[0mtensor\u001b[0m\u001b[0;34m)\u001b[0m\u001b[0;34m:\u001b[0m\u001b[0;34m\u001b[0m\u001b[0;34m\u001b[0m\u001b[0m\n\u001b[0;32m----> 7\u001b[0;31m     \u001b[0mprint\u001b[0m\u001b[0;34m(\u001b[0m\u001b[0;34m\"obj.%s = %r\"\u001b[0m \u001b[0;34m%\u001b[0m \u001b[0;34m(\u001b[0m\u001b[0mattr\u001b[0m\u001b[0;34m,\u001b[0m \u001b[0mgetattr\u001b[0m\u001b[0;34m(\u001b[0m\u001b[0mtensor\u001b[0m\u001b[0;34m,\u001b[0m \u001b[0mattr\u001b[0m\u001b[0;34m)\u001b[0m\u001b[0;34m)\u001b[0m\u001b[0;34m)\u001b[0m\u001b[0;34m\u001b[0m\u001b[0;34m\u001b[0m\u001b[0m\n\u001b[0m\u001b[1;32m      8\u001b[0m \u001b[0mprint\u001b[0m\u001b[0;34m(\u001b[0m\u001b[0;34mf\"Shape of tensor: {tensor.shape}\"\u001b[0m\u001b[0;34m)\u001b[0m\u001b[0;34m\u001b[0m\u001b[0;34m\u001b[0m\u001b[0m\n\u001b[1;32m      9\u001b[0m \u001b[0mprint\u001b[0m\u001b[0;34m(\u001b[0m\u001b[0;34mf\"Datatype of tensor: {tensor.dtype}\"\u001b[0m\u001b[0;34m)\u001b[0m\u001b[0;34m\u001b[0m\u001b[0;34m\u001b[0m\u001b[0m\n",
            "\u001b[0;31mRuntimeError\u001b[0m: imag is not implemented for tensors with non-complex dtypes."
          ]
        }
      ],
      "source": [
        "from pprint import pprint\n",
        "tensor = torch.rand(3,4)\n",
        "print(tensor)\n",
        "print(vars(tensor))\n",
        "pprint(vars(tensor))\n",
        "# for attr in dir(tensor):\n",
        "#     print(\"obj.%s = %r\" % (attr, getattr(tensor, attr)))\n",
        "print(f\"Shape of tensor: {tensor.shape}\")\n",
        "print(f\"Datatype of tensor: {tensor.dtype}\")\n",
        "print(f\"Device tensor is stored on: {tensor.device}\")"
      ]
    },
    {
      "cell_type": "markdown",
      "metadata": {
        "id": "JIMh1CGl_ufd"
      },
      "source": [
        "--------------\n",
        "\n",
        "\n"
      ]
    },
    {
      "cell_type": "markdown",
      "metadata": {
        "id": "Z7ieknUS_ufd"
      },
      "source": [
        "Operations on Tensors\n",
        "~~~~~~~~~~~~~~~~~\n",
        "\n",
        "Over 100 tensor operations, including arithmetic, linear algebra, matrix manipulation (transposing,\n",
        "indexing, slicing), sampling and more are\n",
        "comprehensively described `here <https://pytorch.org/docs/stable/torch.html>`__.\n",
        "\n",
        "Each of these operations can be run on the GPU (at typically higher speeds than on a\n",
        "CPU). If you’re using Colab, allocate a GPU by going to Runtime > Change runtime type > GPU.\n",
        "\n",
        "By default, tensors are created on the CPU. We need to explicitly move tensors to the GPU using\n",
        "``.to`` method (after checking for GPU availability). Keep in mind that copying large tensors\n",
        "across devices can be expensive in terms of time and memory!\n",
        "\n"
      ]
    },
    {
      "cell_type": "code",
      "execution_count": null,
      "metadata": {
        "id": "wDBH0Mo5_ufd"
      },
      "outputs": [],
      "source": [
        "# We move our tensor to the GPU if available\n",
        "if torch.cuda.is_available():\n",
        "  tensor = tensor.to('cuda')"
      ]
    },
    {
      "cell_type": "markdown",
      "metadata": {
        "id": "YaZBm8cs_ufd"
      },
      "source": [
        "Try out some of the operations from the list.\n",
        "If you're familiar with the NumPy API, you'll find the Tensor API a breeze to use.\n",
        "\n",
        "\n"
      ]
    },
    {
      "cell_type": "markdown",
      "metadata": {
        "id": "utuI3xk__ufe"
      },
      "source": [
        "**Standard numpy-like indexing and slicing:**\n",
        "\n"
      ]
    },
    {
      "cell_type": "code",
      "execution_count": null,
      "metadata": {
        "id": "Sg7JjqTL_ufe"
      },
      "outputs": [],
      "source": [
        "tensor = torch.ones(4, 4)\n",
        "print('First row: ',tensor[0])\n",
        "print('First column: ', tensor[:, 0])\n",
        "print('Last column:', tensor[..., -1])\n",
        "tensor[:,1] = 0\n",
        "print(tensor)"
      ]
    },
    {
      "cell_type": "markdown",
      "metadata": {
        "id": "VxY2O5pw_ufe"
      },
      "source": [
        "**Joining tensors** You can use ``torch.cat`` to concatenate a sequence of tensors along a given dimension.\n",
        "See also `torch.stack <https://pytorch.org/docs/stable/generated/torch.stack.html>`__,\n",
        "another tensor joining op that is subtly different from ``torch.cat``.\n",
        "\n"
      ]
    },
    {
      "cell_type": "code",
      "execution_count": null,
      "metadata": {
        "id": "g0UMfwAi_ufe"
      },
      "outputs": [],
      "source": [
        "t1 = torch.cat([tensor, tensor, tensor], dim=1)\n",
        "print(t1)"
      ]
    },
    {
      "cell_type": "markdown",
      "metadata": {
        "id": "T-q4rNcC_ufe"
      },
      "source": [
        "**Arithmetic operations**\n",
        "\n"
      ]
    },
    {
      "cell_type": "code",
      "execution_count": null,
      "metadata": {
        "id": "FJLkYbGf_ufe"
      },
      "outputs": [],
      "source": [
        "# This computes the matrix multiplication between two tensors. y1, y2, y3 will have the same value\n",
        "y1 = tensor @ tensor.T\n",
        "y2 = tensor.matmul(tensor.T)\n",
        "\n",
        "y3 = torch.rand_like(tensor)\n",
        "torch.matmul(tensor, tensor.T, out=y3)\n",
        "\n",
        "\n",
        "# This computes the element-wise product. z1, z2, z3 will have the same value\n",
        "z1 = tensor * tensor\n",
        "z2 = tensor.mul(tensor)\n",
        "\n",
        "z3 = torch.rand_like(tensor)\n",
        "torch.mul(tensor, tensor, out=z3)"
      ]
    },
    {
      "cell_type": "markdown",
      "metadata": {
        "id": "9MJeGHmX_ufe"
      },
      "source": [
        "**Single-element tensors** If you have a one-element tensor, for example by aggregating all\n",
        "values of a tensor into one value, you can convert it to a Python\n",
        "numerical value using ``item()``:\n",
        "\n"
      ]
    },
    {
      "cell_type": "code",
      "execution_count": null,
      "metadata": {
        "id": "boQYwGEX_ufe"
      },
      "outputs": [],
      "source": [
        "agg = tensor.sum()\n",
        "agg_item = agg.item()\n",
        "print(agg_item, type(agg_item))"
      ]
    },
    {
      "cell_type": "markdown",
      "metadata": {
        "id": "_TH-l1-F_ufe"
      },
      "source": [
        "**In-place operations**\n",
        "Operations that store the result into the operand are called in-place. They are denoted by a ``_`` suffix.\n",
        "For example: ``x.copy_(y)``, ``x.t_()``, will change ``x``.\n",
        "\n"
      ]
    },
    {
      "cell_type": "code",
      "execution_count": null,
      "metadata": {
        "id": "jB-8qbR8_uff"
      },
      "outputs": [],
      "source": [
        "print(tensor, \"\\n\")\n",
        "tensor.add_(5)\n",
        "print(tensor)"
      ]
    },
    {
      "cell_type": "markdown",
      "metadata": {
        "id": "IYAq4d3c_uff"
      },
      "source": [
        "<div class=\"alert alert-info\"><h4>Note</h4><p>In-place operations save some memory, but can be problematic when computing derivatives because of an immediate loss\n",
        "     of history. Hence, their use is discouraged.</p></div>\n",
        "\n"
      ]
    },
    {
      "cell_type": "markdown",
      "metadata": {
        "id": "Ly05sfIE_uff"
      },
      "source": [
        "--------------\n",
        "\n",
        "\n"
      ]
    },
    {
      "cell_type": "markdown",
      "metadata": {
        "id": "n-jWgMwt_uff"
      },
      "source": [
        "\n",
        "Bridge with NumPy\n",
        "~~~~~~~~~~~~~~~~~\n",
        "Tensors on the CPU and NumPy arrays can share their underlying memory\n",
        "locations, and changing one will change\tthe other.\n",
        "\n"
      ]
    },
    {
      "cell_type": "markdown",
      "metadata": {
        "id": "99udyIkW_uff"
      },
      "source": [
        "Tensor to NumPy array\n",
        "^^^^^^^^^^^^^^^^^^^^^^^^^^^^^^^^^^^^^^\n",
        "\n"
      ]
    },
    {
      "cell_type": "code",
      "execution_count": null,
      "metadata": {
        "id": "Nq1WZJLa_uff"
      },
      "outputs": [],
      "source": [
        "t = torch.ones(5)\n",
        "print(f\"t: {t}\")\n",
        "n = t.numpy()\n",
        "print(f\"n: {n}\")"
      ]
    },
    {
      "cell_type": "markdown",
      "metadata": {
        "id": "HMyxT46O_ufg"
      },
      "source": [
        "A change in the tensor reflects in the NumPy array.\n",
        "\n"
      ]
    },
    {
      "cell_type": "code",
      "execution_count": null,
      "metadata": {
        "id": "RCw18J-a_ufg"
      },
      "outputs": [],
      "source": [
        "t.add_(1)\n",
        "print(f\"t: {t}\")\n",
        "print(f\"n: {n}\")"
      ]
    },
    {
      "cell_type": "markdown",
      "metadata": {
        "id": "lZ58znal_ufg"
      },
      "source": [
        "NumPy array to Tensor\n",
        "^^^^^^^^^^^^^^^^^^^^^^^^^^^^^^^^^^^^^^\n",
        "\n"
      ]
    },
    {
      "cell_type": "code",
      "execution_count": null,
      "metadata": {
        "id": "KKFNS8-P_ufg"
      },
      "outputs": [],
      "source": [
        "n = np.ones(5)\n",
        "t = torch.from_numpy(n)"
      ]
    },
    {
      "cell_type": "markdown",
      "metadata": {
        "id": "oXi_6tcq_ufg"
      },
      "source": [
        "Changes in the NumPy array reflects in the tensor.\n",
        "\n"
      ]
    },
    {
      "cell_type": "code",
      "execution_count": null,
      "metadata": {
        "id": "KDqWhyO2_ufg"
      },
      "outputs": [],
      "source": [
        "np.add(n, 1, out=n)\n",
        "print(f\"t: {t}\")\n",
        "print(f\"n: {n}\")"
      ]
    }
  ],
  "metadata": {
    "kernelspec": {
      "display_name": "Python 3",
      "language": "python",
      "name": "python3"
    },
    "language_info": {
      "codemirror_mode": {
        "name": "ipython",
        "version": 3
      },
      "file_extension": ".py",
      "mimetype": "text/x-python",
      "name": "python",
      "nbconvert_exporter": "python",
      "pygments_lexer": "ipython3",
      "version": "3.6.8"
    },
    "colab": {
      "provenance": [],
      "include_colab_link": true
    }
  },
  "nbformat": 4,
  "nbformat_minor": 0
}